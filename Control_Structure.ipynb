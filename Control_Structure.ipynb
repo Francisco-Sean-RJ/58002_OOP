{
  "nbformat": 4,
  "nbformat_minor": 0,
  "metadata": {
    "colab": {
      "provenance": [],
      "authorship_tag": "ABX9TyPo2aQaoaXbwF4LnprDUJkb",
      "include_colab_link": true
    },
    "kernelspec": {
      "name": "python3",
      "display_name": "Python 3"
    },
    "language_info": {
      "name": "python"
    }
  },
  "cells": [
    {
      "cell_type": "markdown",
      "metadata": {
        "id": "view-in-github",
        "colab_type": "text"
      },
      "source": [
        "<a href=\"https://colab.research.google.com/github/Francisco-Sean-RJ/58002_OOP/blob/main/Control_Structure.ipynb\" target=\"_parent\"><img src=\"https://colab.research.google.com/assets/colab-badge.svg\" alt=\"Open In Colab\"/></a>"
      ]
    },
    {
      "cell_type": "code",
      "execution_count": 8,
      "metadata": {
        "id": "-_Oca_YYjETb"
      },
      "outputs": [],
      "source": [
        "#If Statement\n",
        "a = 50\n",
        "b = 50\n",
        "\n",
        "if a>b:\n",
        "  print (\"a is greater than b\")"
      ]
    },
    {
      "cell_type": "code",
      "source": [
        "#ElIf statement\n",
        "if a>b:\n",
        "  print (\"a is greater than b\")\n",
        "else:\n",
        "  print (\"a is less than b\")"
      ],
      "metadata": {
        "colab": {
          "base_uri": "https://localhost:8080/"
        },
        "id": "1iWb5YsflSv_",
        "outputId": "14401197-0b8a-436a-b516-a0fc4d33bbf5"
      },
      "execution_count": 5,
      "outputs": [
        {
          "output_type": "stream",
          "name": "stdout",
          "text": [
            "a is greater than b\n"
          ]
        }
      ]
    },
    {
      "cell_type": "code",
      "source": [
        "#ElIf statement\n",
        "if a>b:\n",
        "  print (\"a is greater than b\")\n",
        "elif a<b:\n",
        "  print (\"a is less than b\")\n",
        "else:\n",
        "  print (\"a is equal to b\")"
      ],
      "metadata": {
        "colab": {
          "base_uri": "https://localhost:8080/"
        },
        "id": "31-fEV9QlwaA",
        "outputId": "a0a249d7-00ef-44e8-c821-55af377b649b"
      },
      "execution_count": 9,
      "outputs": [
        {
          "output_type": "stream",
          "name": "stdout",
          "text": [
            "a is equal to b\n"
          ]
        }
      ]
    },
    {
      "cell_type": "markdown",
      "source": [
        "Shorthand Hand IF.Else"
      ],
      "metadata": {
        "id": "ARQjQZ9cmc3P"
      }
    },
    {
      "cell_type": "code",
      "source": [
        "print (\"a is greater than b\") if a>b else print (\"b is less than a\")"
      ],
      "metadata": {
        "colab": {
          "base_uri": "https://localhost:8080/"
        },
        "id": "ANnytH9Cmazf",
        "outputId": "2c54845e-9fc1-4cd9-8830-edc8070989fc"
      },
      "execution_count": 10,
      "outputs": [
        {
          "output_type": "stream",
          "name": "stdout",
          "text": [
            "b is less than a\n"
          ]
        }
      ]
    },
    {
      "cell_type": "code",
      "source": [
        "s = 75\n",
        "t = 70\n",
        "\n",
        "if s>t and t<s:\n",
        "  print (\"s > t and t < s\")"
      ],
      "metadata": {
        "colab": {
          "base_uri": "https://localhost:8080/"
        },
        "id": "S8IFfoV9nLGH",
        "outputId": "b86b4657-4e16-47c0-e675-8da85db162fb"
      },
      "execution_count": 11,
      "outputs": [
        {
          "output_type": "stream",
          "name": "stdout",
          "text": [
            "s > t and t < s\n"
          ]
        }
      ]
    },
    {
      "cell_type": "markdown",
      "source": [
        "Or condition"
      ],
      "metadata": {
        "id": "v1hbfkBKoE2Y"
      }
    },
    {
      "cell_type": "code",
      "source": [
        "print (\"s > t and t < s\")"
      ],
      "metadata": {
        "colab": {
          "base_uri": "https://localhost:8080/"
        },
        "id": "HaA8SqoFoGaB",
        "outputId": "7ebe1441-7a3f-4b89-caca-78eac32762de"
      },
      "execution_count": 12,
      "outputs": [
        {
          "output_type": "stream",
          "name": "stdout",
          "text": [
            "s > t and t < s\n"
          ]
        }
      ]
    },
    {
      "cell_type": "code",
      "source": [
        "x = 41\n",
        "\n",
        "if x > 10:\n",
        "    print(\"above 10\")\n",
        "else:\n",
        "    print(\"below 10\")\n",
        "\n",
        "if x > 20:\n",
        "    print(\"above 20\")\n",
        "else:\n",
        "    print(\"below 20\")\n",
        "\n",
        "if x > 30:\n",
        "    print(\"above 30\")\n",
        "else:\n",
        "    print(\"below 30\")\n",
        "\n",
        "if x > 40:\n",
        "    print(\"above 40\")\n",
        "else:\n",
        "    print(\"below 40\")\n",
        "\n",
        "if x > 50:\n",
        "    print(\"above 50\")\n",
        "else:\n",
        "    print(\"below 50\")"
      ],
      "metadata": {
        "colab": {
          "base_uri": "https://localhost:8080/"
        },
        "id": "WJoFkhNNoPAA",
        "outputId": "e51bec98-8e05-4cfe-f8b4-c707c55a2638"
      },
      "execution_count": 13,
      "outputs": [
        {
          "output_type": "stream",
          "name": "stdout",
          "text": [
            "above 10\n",
            "above 20\n",
            "above 30\n",
            "above 40\n",
            "below 50\n"
          ]
        }
      ]
    },
    {
      "cell_type": "markdown",
      "source": [
        "Example 1"
      ],
      "metadata": {
        "id": "9cm7-SjOzJIk"
      }
    },
    {
      "cell_type": "code",
      "source": [
        "a = int(input (\"input your age:\"))\n",
        "\n",
        "if a>= 17:\n",
        "  print (\"You can vote!\")\n",
        "else:\n",
        "  print (\"You're not allowed to vote\")"
      ],
      "metadata": {
        "colab": {
          "base_uri": "https://localhost:8080/"
        },
        "id": "_wmMc5U6y0sj",
        "outputId": "3f699904-c2b3-493a-824b-ea3ff5e720b5"
      },
      "execution_count": 14,
      "outputs": [
        {
          "output_type": "stream",
          "name": "stdout",
          "text": [
            "input your age:18\n",
            "You can vote!\n"
          ]
        }
      ]
    },
    {
      "cell_type": "markdown",
      "source": [
        "Example 2"
      ],
      "metadata": {
        "id": "slbQJacKzKnT"
      }
    },
    {
      "cell_type": "code",
      "source": [
        "a = int(input (\"Enter Number:\"))\n",
        "\n",
        "if a > 1:\n",
        "  print (\"POSITIVE\")\n",
        "elif a==0:\n",
        "  print (\"ZERO\")\n",
        "else: \n",
        "  print (\"NEGATIVE\")"
      ],
      "metadata": {
        "colab": {
          "base_uri": "https://localhost:8080/"
        },
        "id": "UCfPHVMFzMOz",
        "outputId": "6e2a9235-7c97-4b52-ae3e-35458e8ad4c3"
      },
      "execution_count": 15,
      "outputs": [
        {
          "output_type": "stream",
          "name": "stdout",
          "text": [
            "Enter Number:-1\n",
            "NEGATIVE\n"
          ]
        }
      ]
    },
    {
      "cell_type": "markdown",
      "source": [
        "Example 3"
      ],
      "metadata": {
        "id": "0ajpa_dW2vN7"
      }
    },
    {
      "cell_type": "code",
      "source": [
        "print(\"Write a program to determine if the grades are: If: Grade > = 75 / Passed, Grade = 74 / Remedial, Failed grade < 74\") \n",
        "print(\" \")\n",
        "print(\"Enter your grade: \")\n",
        "grade = int(input())\n",
        "if grade >= 75:\n",
        "  print(\"You have passed!\")\n",
        "elif grade == 74:\n",
        "  print(\"You need to take a remedial!\")\n",
        "else:\n",
        "  print(\"You failed!\")"
      ],
      "metadata": {
        "colab": {
          "base_uri": "https://localhost:8080/"
        },
        "id": "IkkhW0n22u9r",
        "outputId": "8d51d10f-1bdf-4915-ef87-d0977ce874a5"
      },
      "execution_count": 16,
      "outputs": [
        {
          "output_type": "stream",
          "name": "stdout",
          "text": [
            "Write a program to determine if the grades are: If: Grade > = 75 / Passed, Grade = 74 / Remedial, Failed grade < 74\n",
            " \n",
            "Enter your grade: \n",
            "12\n",
            "You failed!\n"
          ]
        }
      ]
    }
  ]
}