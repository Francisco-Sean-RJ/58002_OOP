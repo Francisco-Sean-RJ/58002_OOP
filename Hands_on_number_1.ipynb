{
  "nbformat": 4,
  "nbformat_minor": 0,
  "metadata": {
    "colab": {
      "provenance": [],
      "authorship_tag": "ABX9TyNp6Kw0+CWc0BJjab8X689W",
      "include_colab_link": true
    },
    "kernelspec": {
      "name": "python3",
      "display_name": "Python 3"
    },
    "language_info": {
      "name": "python"
    }
  },
  "cells": [
    {
      "cell_type": "markdown",
      "metadata": {
        "id": "view-in-github",
        "colab_type": "text"
      },
      "source": [
        "<a href=\"https://colab.research.google.com/github/Francisco-Sean-RJ/58002_OOP/blob/main/Hands_on_number_1.ipynb\" target=\"_parent\"><img src=\"https://colab.research.google.com/assets/colab-badge.svg\" alt=\"Open In Colab\"/></a>"
      ]
    },
    {
      "cell_type": "markdown",
      "source": [
        "Hands On"
      ],
      "metadata": {
        "id": "Vf91CPj--JrH"
      }
    },
    {
      "cell_type": "code",
      "source": [
        "class Person:\n",
        "    def __init__(self, std, pre, mid, fin):\n",
        "        self.__std = std\n",
        "        self.__pre = pre\n",
        "        self.__mid = mid\n",
        "        self.__fin = fin\n",
        "    def grade(self):\n",
        "        print(\"   Average grade is: \", round((self.__pre + self.__mid + self.__fin) / 3, 2))\n",
        "        print()\n",
        "    def display(self):\n",
        "        print(self.__std)\n",
        "        print(\"   Prelims grade is: \", self.__pre)\n",
        "        print(\"   Midterms grade is: \", self.__mid)\n",
        "        print(\"   Finals grade is: \", self.__fin)\n",
        "class std1(Person):\n",
        "    pass\n",
        "class std2(Person):\n",
        "    pass\n",
        "class std3(Person):\n",
        "    pass\n",
        "\n",
        "Student1 = std1(\"Student 1\", 94, 93, 90)\n",
        "Student1.display()\n",
        "Student1.grade()\n",
        "Student2 = std2(\"Student 2\", 88, 80, 90)\n",
        "Student2.display()\n",
        "Student2.grade()\n",
        "Student3 = std3(\"Student 3\", 94, 88, 89)\n",
        "Student3.display()\n",
        "Student3.grade()\n"
      ],
      "metadata": {
        "colab": {
          "base_uri": "https://localhost:8080/"
        },
        "id": "LX31cNsCKARP",
        "outputId": "0839c67c-60d2-46ab-d62f-e71bba5e0620"
      },
      "execution_count": 12,
      "outputs": [
        {
          "output_type": "stream",
          "name": "stdout",
          "text": [
            "Student 1\n",
            "   Prelims grade is:  94\n",
            "   Midterms grade is:  93\n",
            "   Finals grade is:  90\n",
            "   Average grade is:  92.33\n",
            "\n",
            "Student 2\n",
            "   Prelims grade is:  88\n",
            "   Midterms grade is:  80\n",
            "   Finals grade is:  90\n",
            "   Average grade is:  86.0\n",
            "\n",
            "Student 3\n",
            "   Prelims grade is:  94\n",
            "   Midterms grade is:  88\n",
            "   Finals grade is:  89\n",
            "   Average grade is:  90.33\n",
            "\n"
          ]
        }
      ]
    },
    {
      "cell_type": "markdown",
      "source": [],
      "metadata": {
        "id": "srlofaymFTmh"
      }
    },
    {
      "cell_type": "code",
      "source": [
        "class Student:\n",
        "    def __init__(self, name, pre, mid, fin):\n",
        "        self.name = name\n",
        "        self.pre = pre\n",
        "        self.mid = mid\n",
        "        self.fin = fin\n",
        "    \n",
        "    def grade(self):\n",
        "        avg_grade = (self.pre + self.mid + self.fin) / 3\n",
        "        print(f\"Average grade for {self.name}: {avg_grade:.2f}\")\n",
        "    \n",
        "    def display(self):\n",
        "        print(f\"Name: {self.name}\")\n",
        "        print(f\"Prelims grade: {self.pre}\")\n",
        "        print(f\"Midterms grade: {self.mid}\")\n",
        "        print(f\"Finals grade: {self.fin}\")\n",
        "\n",
        "# create three student objects\n",
        "s1 = Student(\"Student 1\", 94, 93, 90)\n",
        "s2 = Student(\"Student 2\", 88, 80, 90)\n",
        "s3 = Student(\"Student 3\", 94, 88, 89)\n",
        "\n",
        "# display and grade each student\n",
        "s1.display()\n",
        "s1.grade()\n",
        "print()\n",
        "s2.display()\n",
        "s2.grade()\n",
        "print()\n",
        "s3.display()\n",
        "s3.grade()\n"
      ],
      "metadata": {
        "colab": {
          "base_uri": "https://localhost:8080/"
        },
        "id": "5fFMWDA_TX9_",
        "outputId": "83142035-2724-4937-c815-028be40fecd2"
      },
      "execution_count": 14,
      "outputs": [
        {
          "output_type": "stream",
          "name": "stdout",
          "text": [
            "Name: Student 1\n",
            "Prelims grade: 94\n",
            "Midterms grade: 93\n",
            "Finals grade: 90\n",
            "Average grade for Student 1: 92.33\n",
            "\n",
            "Name: Student 2\n",
            "Prelims grade: 88\n",
            "Midterms grade: 80\n",
            "Finals grade: 90\n",
            "Average grade for Student 2: 86.00\n",
            "\n",
            "Name: Student 3\n",
            "Prelims grade: 94\n",
            "Midterms grade: 88\n",
            "Finals grade: 89\n",
            "Average grade for Student 3: 90.33\n"
          ]
        }
      ]
    }
  ]
}