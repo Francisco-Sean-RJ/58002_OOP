{
  "nbformat": 4,
  "nbformat_minor": 0,
  "metadata": {
    "colab": {
      "provenance": [],
      "authorship_tag": "ABX9TyMQXAl7pQBzRN5IKNqO1crt",
      "include_colab_link": true
    },
    "kernelspec": {
      "name": "python3",
      "display_name": "Python 3"
    },
    "language_info": {
      "name": "python"
    }
  },
  "cells": [
    {
      "cell_type": "markdown",
      "metadata": {
        "id": "view-in-github",
        "colab_type": "text"
      },
      "source": [
        "<a href=\"https://colab.research.google.com/github/Francisco-Sean-RJ/58002_OOP/blob/main/Hands_on_number_1.ipynb\" target=\"_parent\"><img src=\"https://colab.research.google.com/assets/colab-badge.svg\" alt=\"Open In Colab\"/></a>"
      ]
    },
    {
      "cell_type": "markdown",
      "source": [
        "Hands On"
      ],
      "metadata": {
        "id": "Vf91CPj--JrH"
      }
    },
    {
      "cell_type": "code",
      "source": [
        "class Person:\n",
        "    def __init__(self, std, pre, mid, fin):\n",
        "        self.__std = std\n",
        "        self.__pre = pre\n",
        "        self.__mid = mid\n",
        "        self.__fin = fin\n",
        "    def grade(self):\n",
        "        print(\"   Average grade is: \", round((self.__pre + self.__mid + self.__fin) / 3, 2))\n",
        "        print()\n",
        "    def display(self):\n",
        "        print(self.__std)\n",
        "        print(\"   Prelims grade is: \", self.__pre)\n",
        "        print(\"   Midterms grade is: \", self.__mid)\n",
        "        print(\"   Finals grade is: \", self.__fin)\n",
        "class std1(Person):\n",
        "    pass\n",
        "class std2(Person):\n",
        "    pass\n",
        "class std3(Person):\n",
        "    pass\n",
        "\n",
        "Student1 = std1(\"Student 1\", 94, 93, 90)\n",
        "Student1.display()\n",
        "Student1.grade()\n",
        "Student2 = std2(\"Student 2\", 88, 80, 90)\n",
        "Student2.display()\n",
        "Student2.grade()\n",
        "Student3 = std3(\"Student 3\", 94, 88, 89)\n",
        "Student3.display()\n",
        "Student3.grade()\n"
      ],
      "metadata": {
        "colab": {
          "base_uri": "https://localhost:8080/"
        },
        "id": "LX31cNsCKARP",
        "outputId": "0839c67c-60d2-46ab-d62f-e71bba5e0620"
      },
      "execution_count": 12,
      "outputs": [
        {
          "output_type": "stream",
          "name": "stdout",
          "text": [
            "Student 1\n",
            "   Prelims grade is:  94\n",
            "   Midterms grade is:  93\n",
            "   Finals grade is:  90\n",
            "   Average grade is:  92.33\n",
            "\n",
            "Student 2\n",
            "   Prelims grade is:  88\n",
            "   Midterms grade is:  80\n",
            "   Finals grade is:  90\n",
            "   Average grade is:  86.0\n",
            "\n",
            "Student 3\n",
            "   Prelims grade is:  94\n",
            "   Midterms grade is:  88\n",
            "   Finals grade is:  89\n",
            "   Average grade is:  90.33\n",
            "\n"
          ]
        }
      ]
    },
    {
      "cell_type": "markdown",
      "source": [],
      "metadata": {
        "id": "srlofaymFTmh"
      }
    }
  ]
}