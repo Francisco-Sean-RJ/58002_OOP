{
  "nbformat": 4,
  "nbformat_minor": 0,
  "metadata": {
    "colab": {
      "provenance": [],
      "authorship_tag": "ABX9TyMksKIQoDFt4+RER2uSXtuk",
      "include_colab_link": true
    },
    "kernelspec": {
      "name": "python3",
      "display_name": "Python 3"
    },
    "language_info": {
      "name": "python"
    }
  },
  "cells": [
    {
      "cell_type": "markdown",
      "metadata": {
        "id": "view-in-github",
        "colab_type": "text"
      },
      "source": [
        "<a href=\"https://colab.research.google.com/github/Francisco-Sean-RJ/58002_OOP/blob/main/OOP_concept_2.ipynb\" target=\"_parent\"><img src=\"https://colab.research.google.com/assets/colab-badge.svg\" alt=\"Open In Colab\"/></a>"
      ]
    },
    {
      "cell_type": "code",
      "execution_count": 7,
      "metadata": {
        "colab": {
          "base_uri": "https://localhost:8080/"
        },
        "id": "ZvmM-7PM6C8-",
        "outputId": "c49bc4a1-d5bd-4c7c-d426-99028e953334"
      },
      "outputs": [
        {
          "output_type": "execute_result",
          "data": {
            "text/plain": [
              "7"
            ]
          },
          "metadata": {},
          "execution_count": 7
        }
      ],
      "source": [
        "class foo:\n",
        " def __init__(self,a,b):\n",
        "  self.a = a\n",
        "  self.b = b\n",
        " def add(self):\n",
        "  return self.a + self.b\n",
        "foo_object = foo(3,4)\n",
        "foo_object.add()"
      ]
    },
    {
      "cell_type": "code",
      "source": [
        "#Class with multiple objects\n",
        "\n",
        "class birds:\n",
        "  def __init__(self,name_birds):\n",
        "    self.name_birds = name_birds\n",
        "  def flying_birds(self):\n",
        "    print(f\"The {self.name_birds} is the flying bird above the sky\")\n",
        "  def non_flying_birds(self):\n",
        "    print(f\"The {self.name_birds} is the non flying bird\")\n",
        "  \n",
        "eagle = birds(\"Eagle\")\n",
        "chicken = birds(\"Chicken\")\n",
        "eagle.flying_birds()\n",
        "chicken.non_flying_birds()\n"
      ],
      "metadata": {
        "colab": {
          "base_uri": "https://localhost:8080/"
        },
        "id": "A3P99Efe-q2T",
        "outputId": "5c7fbfa0-00bf-4d4f-b7c8-3784959cd4b7"
      },
      "execution_count": 6,
      "outputs": [
        {
          "output_type": "stream",
          "name": "stdout",
          "text": [
            "The Eagle is the flying bird above the sky\n",
            "The Chicken is the non flying bird\n"
          ]
        }
      ]
    },
    {
      "cell_type": "code",
      "source": [
        "#Encapsulation\n",
        "\n",
        "class foo:\n",
        "  def __init__(self,a,b):\n",
        "    self.__a = a\n",
        "    self.__b = b\n",
        "  def add(self):\n",
        "    return self.__a + self.__b\n",
        "\n",
        "foo_object = foo(3,4)\n",
        "foo_object.add()\n",
        "foo_object.a = 7\n",
        "foo_object.b = 6\n",
        "foo_object.add()"
      ],
      "metadata": {
        "id": "2ir9prhm-_gC"
      },
      "execution_count": null,
      "outputs": []
    },
    {
      "cell_type": "code",
      "source": [
        "#Inheritance\n",
        "class Person:\n",
        "  def __init__(self,name,birthdate):\n",
        "    self.name = name\n",
        "    self.birthdate = birthdate\n",
        "  def display(self):\n",
        "    print(\"My name is\",self.name)\n",
        "    print(\"My birthday is\",self.birthdate)\n",
        "\n",
        "person = Person(\"Jobert\",\"January 1, 1880\")\n",
        "person.display()\n",
        "\n"
      ],
      "metadata": {
        "id": "RSdENRCRAtof"
      },
      "execution_count": null,
      "outputs": []
    },
    {
      "cell_type": "code",
      "source": [
        "class Shapes:\n",
        "    def __init__(self, sides, name):\n",
        "        self.__sides = sides\n",
        "        self.__name = name\n",
        "\n",
        "    def __display_sides(self):\n",
        "        print(f\"{self.__name} has {len(self.__sides)} sides\")\n",
        "\n",
        "class Triangle(Shapes):\n",
        "    def __init__(self, sides):\n",
        "        super().__init__(sides, \"Triangle\")\n",
        "\n",
        "    def display_sides(self):\n",
        "        self._Shapes__display_sides()\n",
        "\n",
        "class Rectangle(Shapes):\n",
        "    def __init__(self, sides):\n",
        "        super().__init__(sides, \"Rectangle\")\n",
        "\n",
        "    def display_sides(self):\n",
        "        self._Shapes__display_sides()\n",
        "\n",
        "class Pentagon(Shapes):\n",
        "    def __init__(self, sides):\n",
        "        super().__init__(sides, \"Pentagon\")\n",
        "\n",
        "    def display_sides(self):\n",
        "        self._Shapes__display_sides()\n",
        "\n",
        "class Hexagon(Shapes):\n",
        "    def __init__(self, sides):\n",
        "        super().__init__(sides, \"Hexagon\")\n",
        "\n",
        "    def display_sides(self):\n",
        "        self._Shapes__display_sides()\n",
        "\n",
        "class Heptagon(Shapes):\n",
        "    def __init__(self, sides):\n",
        "        super().__init__(sides, \"Heptagon\")\n",
        "\n",
        "    def display_sides(self):\n",
        "        self._Shapes__display_sides()\n",
        "\n",
        "\n",
        "triangle = Triangle([3, 4, 5])\n",
        "rectangle = Rectangle([4, 4, 4, 4])\n",
        "pentagon = Pentagon([5, 5, 5, 5, 5])\n",
        "hexagon = Hexagon([6, 6, 6, 6, 6, 6])\n",
        "heptagon = Heptagon([7, 7, 7, 7, 7])\n",
        "\n",
        "triangle.display_sides()    \n",
        "rectangle.display_sides()   \n",
        "pentagon.display_sides()    \n",
        "hexagon.display_sides()     \n",
        "heptagon.display_sides()    "
      ],
      "metadata": {
        "colab": {
          "base_uri": "https://localhost:8080/"
        },
        "id": "NjvTTU9PKrOa",
        "outputId": "fbcebeb4-c656-46f8-9156-60c435185d3f"
      },
      "execution_count": 5,
      "outputs": [
        {
          "output_type": "stream",
          "name": "stdout",
          "text": [
            "Triangle has 3 sides\n",
            "Rectangle has 4 sides\n",
            "Pentagon has 5 sides\n",
            "Hexagon has 6 sides\n",
            "Heptagon has 5 sides\n"
          ]
        }
      ]
    }
  ]
}